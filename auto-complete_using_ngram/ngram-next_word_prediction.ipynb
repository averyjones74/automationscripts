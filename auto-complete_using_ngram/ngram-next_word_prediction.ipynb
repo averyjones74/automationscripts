{
 "cells": [
  {
   "cell_type": "markdown",
   "metadata": {},
   "source": [
    "# Auto-Complete/Language Modelling using N-Gram \n",
    "\n",
    "In this notebook, I will show you how to do language modelling or predict the next word in the sequence using what is a pretty simple NLP algorithm called N-grams. Which forms a very basic form of an autocomplete model.   \n",
    "\n",
    "Everything will be implemented in PyTorch. Unlike a traditional N-Gram model we'll use a Neural Network to extimate the probability of the next word from the vocabulary.\n",
    "\n",
    "First up, we will see about trigrams where the previous 2 words are taken for context."
   ]
  },
  {
   "cell_type": "code",
   "execution_count": 1,
   "metadata": {},
   "outputs": [],
   "source": [
    "import torch\n",
    "\n",
    "import torch.nn as nn\n",
    "import torch.nn.functional as F\n",
    "import torch.optim as optim\n",
    "\n",
    "import matplotlib.pyplot as plt\n",
    "plt.style.use(\"ggplot\")\n",
    "\n",
    "%matplotlib inline\n",
    "\n",
    "import requests\n",
    "import re\n",
    "import pkbar\n",
    "\n",
    "import os"
   ]
  },
  {
   "cell_type": "code",
   "execution_count": 2,
   "metadata": {},
   "outputs": [],
   "source": [
    "# Device configuration\n",
    "device = torch.device('cuda' if torch.cuda.is_available() else 'cpu')"
   ]
  },
  {
   "cell_type": "markdown",
   "metadata": {},
   "source": [
    "> **Note: We will be using Charles Dickens' great novel \"A Tale of two cities\" to train our model.**\n",
    "\n",
    "You can download the novel using the script below, or from [this link](https://www.gutenberg.org/files/98/98-0.txt)\n",
    "\n",
    "If you decide to download from the website, make sure to remove unwanted text from gutenberg at the start and end of the txt file. However I have included the txt file with all the changes in this repo. "
   ]
  },
  {
   "cell_type": "code",
   "execution_count": 3,
   "metadata": {},
   "outputs": [],
   "source": [
    "if \"tale_of_2_cities.txt\" not in os.listdir():\n",
    "    url = \"https://www.gutenberg.org/files/98/98-0.txt\"\n",
    "    r = requests.get(url)\n",
    "\n",
    "    if r.status_code == 200:\n",
    "        with open(\"tale_of_2_cities.txt\", \"wb\") as f:\n",
    "            f.write(r.content)\n",
    "\n",
    "with open(\"tale_of_2_cities.txt\", \"r\", encoding=\"utf-8\") as f:\n",
    "    book = f.read()\n",
    "\n",
    "book = re.sub('\\n', ' ', book)\n",
    "book = re.sub('\\ufeff', '', book)"
   ]
  },
  {
   "cell_type": "code",
   "execution_count": 4,
   "metadata": {},
   "outputs": [
    {
     "name": "stdout",
     "output_type": "stream",
     "text": [
      "['i.', 'the', 'period', 'it', 'was', 'the', 'best', 'of', 'times,', 'it']\n"
     ]
    }
   ],
   "source": [
    "train_text = book.lower().split()\n",
    "print(train_text[:10])"
   ]
  },
  {
   "cell_type": "markdown",
   "metadata": {},
   "source": [
    "## Neural N-gram model PyTorch"
   ]
  },
  {
   "cell_type": "code",
   "execution_count": 5,
   "metadata": {},
   "outputs": [],
   "source": [
    "class NGramModel(nn.Module):\n",
    "    \"\"\"\n",
    "    A simple Neural Network - for the sake of this tutorial\n",
    "    \"\"\"\n",
    "    def __init__(self, vocab_size, embedding_dim, context_size):\n",
    "        super(NGramModel, self).__init__()\n",
    "        self.embedding = nn.Embedding(vocab_size, embedding_dim)\n",
    "        self.linear1 = nn.Linear(context_size * embedding_dim, 128)\n",
    "        self.linear2 = nn.Linear(128, vocab_size)\n",
    "        \n",
    "    def forward(self, inputs):\n",
    "        embeds = self.embedding(inputs).view((1, -1))\n",
    "        x = F.relu(self.linear1(embeds))\n",
    "        x = self.linear2(x)\n",
    "        log_probs = F.log_softmax(x, dim=1)\n",
    "        return log_probs"
   ]
  },
  {
   "cell_type": "markdown",
   "metadata": {},
   "source": [
    "## Trigram"
   ]
  },
  {
   "cell_type": "code",
   "execution_count": 6,
   "metadata": {},
   "outputs": [],
   "source": [
    "make_trigrams = lambda text: [([text[i], text[i+1]], text[i+2]) for i in range(len(text) -2)]\n",
    "\n",
    "trigrams = make_trigrams(train_text)"
   ]
  },
  {
   "cell_type": "code",
   "execution_count": 7,
   "metadata": {},
   "outputs": [
    {
     "data": {
      "text/plain": [
       "[(['i.', 'the'], 'period'),\n",
       " (['the', 'period'], 'it'),\n",
       " (['period', 'it'], 'was')]"
      ]
     },
     "execution_count": 7,
     "metadata": {},
     "output_type": "execute_result"
    }
   ],
   "source": [
    "trigrams[:3]"
   ]
  },
  {
   "cell_type": "code",
   "execution_count": 8,
   "metadata": {},
   "outputs": [
    {
     "name": "stdout",
     "output_type": "stream",
     "text": [
      "Vocabulary Length: 18131\n"
     ]
    }
   ],
   "source": [
    "vocabulary = set(train_text)\n",
    "vocab_len = len(vocabulary)\n",
    "\n",
    "word_ixs = {word: i for i, word in enumerate(vocabulary)}\n",
    "\n",
    "print(f\"Vocabulary Length: {vocab_len}\")"
   ]
  },
  {
   "cell_type": "code",
   "execution_count": 9,
   "metadata": {},
   "outputs": [
    {
     "name": "stdout",
     "output_type": "stream",
     "text": [
      "Epoch: 1/10\n",
      "135595/135595 [====================] - 246s 2ms/step - loss: 6.8903\n",
      "Epoch: 2/10\n",
      "135595/135595 [====================] - 192s 1ms/step - loss: 6.3981\n",
      "Epoch: 3/10\n",
      "135595/135595 [====================] - 185s 1ms/step - loss: 6.1157\n",
      "Epoch: 4/10\n",
      "135595/135595 [====================] - 185s 1ms/step - loss: 5.8585\n",
      "Epoch: 5/10\n",
      "135595/135595 [====================] - 186s 1ms/step - loss: 5.6098\n",
      "Epoch: 6/10\n",
      "135595/135595 [====================] - 180s 1ms/step - loss: 5.3700\n",
      "Epoch: 7/10\n",
      "135595/135595 [====================] - 179s 1ms/step - loss: 5.1443\n",
      "Epoch: 8/10\n",
      "135595/135595 [====================] - 184s 1ms/step - loss: 4.9392\n",
      "Epoch: 9/10\n",
      "135595/135595 [====================] - 186s 1ms/step - loss: 4.7575\n",
      "Epoch: 10/10\n",
      "135595/135595 [====================] - 185s 1ms/step - loss: 4.5986\n"
     ]
    }
   ],
   "source": [
    "EPOCHS = 10\n",
    "EMBED_DIM = 32\n",
    "CONTEXT_LEN = 2  \n",
    "\n",
    "model = NGramModel(vocab_len, EMBED_DIM, CONTEXT_LEN).to(device)\n",
    "\n",
    "losses = []\n",
    "loss_function = nn.NLLLoss()\n",
    "optimizer = optim.SGD(model.parameters(), lr=1e-02)\n",
    "\n",
    "for epoch in range(EPOCHS):\n",
    "    tot_loss = 0\n",
    "    \n",
    "    # Keras style progress bar in PyTorch\n",
    "    kbar = pkbar.Kbar(target=len(trigrams), epoch=epoch, num_epochs=EPOCHS, width=20, always_stateful=False)\n",
    "\n",
    "    for i, (context, targets) in enumerate(trigrams):\n",
    "        # Process the inputs\n",
    "        idxs = torch.tensor([word_ixs[w] for w in context], dtype=torch.long, device=device)\n",
    "        \n",
    "        # Reset gradients \n",
    "        model.zero_grad()\n",
    "        \n",
    "        # Forward pass\n",
    "        log_probs = model(idxs)\n",
    "        \n",
    "        # compute loss\n",
    "        loss = loss_function(log_probs, torch.tensor([word_ixs[targets]], dtype=torch.long, device=device))\n",
    "        \n",
    "        # backprop and update grads\n",
    "        loss.backward()\n",
    "        optimizer.step()\n",
    "        \n",
    "        tot_loss += loss.item()\n",
    "        \n",
    "        kbar.update(i, values=[(\"loss\", loss.item())])\n",
    "        \n",
    "    kbar.add(1)\n",
    "        \n",
    "    losses.append(tot_loss / len(train_text))"
   ]
  },
  {
   "cell_type": "code",
   "execution_count": 10,
   "metadata": {
    "scrolled": false
   },
   "outputs": [
    {
     "data": {
      "image/png": "[encoded data removed]",
      "text/plain": [
       "<Figure size 432x288 with 1 Axes>"
      ]
     },
     "metadata": {
      "needs_background": "light"
     },
     "output_type": "display_data"
    }
   ],
   "source": [
    "plt.plot(losses)\n",
    "plt.xlabel(\"Epochs\")\n",
    "plt.ylabel(\"Loss\")\n",
    "plt.show()"
   ]
  },
  {
   "cell_type": "code",
   "execution_count": 11,
   "metadata": {},
   "outputs": [],
   "source": [
    "def make_inference(inputs, word_dict):\n",
    "    # Re-map dict\n",
    "    reverted_dict = dict(map(reversed, word_ixs.items()))\n",
    "    \n",
    "    model.eval()\n",
    "    with torch.no_grad():\n",
    "        # Processing input\n",
    "        idxs = torch.tensor([word_dict[w] for w in inputs], dtype=torch.long, device=device)\n",
    "        \n",
    "        # Forward pass\n",
    "        log_probs = model(idxs)\n",
    "        \n",
    "        # Obtain probs\n",
    "        probs = torch.exp(log_probs)\n",
    "        \n",
    "        # obtain prediction\n",
    "        _, pred = torch.max(probs, 1)\n",
    "        \n",
    "        # Obtain predicted word index\n",
    "        pred_idx = pred.detach().cpu().numpy()[0]\n",
    "        \n",
    "        # Get predicted word from remapped dict\n",
    "        out = reverted_dict[pred_idx]\n",
    "        \n",
    "    return pred_idx, out"
   ]
  },
  {
   "cell_type": "code",
   "execution_count": 12,
   "metadata": {},
   "outputs": [],
   "source": [
    "def generate_text(inputs, word_dict, n_words):\n",
    "    # Preprocess input\n",
    "    inputs = inputs.lower().split()\n",
    "    \n",
    "    # Keep track of predicted words\n",
    "    pred_sent = inputs\n",
    "    # Collect pred indexes\n",
    "    pred_idxs = []\n",
    "    \n",
    "    for w in range(n_words):\n",
    "        pred_idx, pred_w = make_inference(inputs, word_dict)\n",
    "        pred_sent.append(pred_w)\n",
    "        pred_idxs.append(pred_idx)\n",
    "        inputs = [pred_sent[-2], pred_sent[-1]]\n",
    "    \n",
    "    return pred_sent, pred_idxs"
   ]
  },
  {
   "cell_type": "code",
   "execution_count": 13,
   "metadata": {
    "scrolled": true
   },
   "outputs": [
    {
     "name": "stdout",
     "output_type": "stream",
     "text": [
      "(['i', 'am', 'a', 'briton,”', 'of', 'their', 'descendants,', 'generations', 'hence.', 'a', 'wife', 'of'], [6288, 2657, 10975, 9486, 9753, 6821, 4946, 6288, 3177, 10975])\n",
      "(['london', 'is', 'a', 'far,', 'far', 'better', 'rest', 'that', 'i', 'have', 'ever', 'known.”'], [6288, 5933, 10319, 14791, 3555, 13860, 898, 3477, 14564, 9098])\n",
      "(['a', 'king', 'see', 'a', 'beautiful', 'of', 'a', 'drowning', 'woman.', 'soon,', 'i', 'see'], [12140, 6288, 16344, 10975, 6288, 13529, 11596, 4183, 898, 12140])\n",
      "(['after', 'that', 'i', 'have', 'ever', 'known.”', 'a', 'flash', 'of', 'this', \"day's\", 'disfigurement--and'], [898, 3477, 14564, 9098, 6288, 6828, 10975, 15525, 12125, 8700])\n"
     ]
    }
   ],
   "source": [
    "print(generate_text(\"I am\", word_ixs, 10))\n",
    "print(generate_text(\"London is\", word_ixs, 10))\n",
    "print(generate_text(\"A king\", word_ixs, 10))\n",
    "print(generate_text(\"After that\", word_ixs, 10))"
   ]
  },
  {
   "cell_type": "code",
   "execution_count": 19,
   "metadata": {},
   "outputs": [
    {
     "name": "stdout",
     "output_type": "stream",
     "text": [
      "['who', 'is', 'the', 'natural', 'birth,', 'a', 'child', 'upon', 'it,', 'of', 'the', 'tumbrils,']\n"
     ]
    }
   ],
   "source": [
    "print(generate_text(\"Who is\", word_ixs, 10)[0])"
   ]
  },
  {
   "cell_type": "markdown",
   "metadata": {},
   "source": [
    "## N-Gram"
   ]
  },
  {
   "cell_type": "code",
   "execution_count": 35,
   "metadata": {},
   "outputs": [],
   "source": [
    "# Making ngrams is also easy, you should be using (n-1) in slicing, Sorry for that! \n",
    "make_n_grams = lambda text, n: [(text[i:i+n], text[i+n]) for i in range(len(text) - n)]\n",
    "\n",
    "N = 8 \n",
    "\n",
    "n_grams = make_n_grams(train_text, N)"
   ]
  },
  {
   "cell_type": "code",
   "execution_count": 36,
   "metadata": {
    "scrolled": true
   },
   "outputs": [
    {
     "data": {
      "text/plain": [
       "[(['i.', 'the', 'period', 'it', 'was', 'the', 'best', 'of'], 'times,'),\n",
       " (['the', 'period', 'it', 'was', 'the', 'best', 'of', 'times,'], 'it'),\n",
       " (['period', 'it', 'was', 'the', 'best', 'of', 'times,', 'it'], 'was')]"
      ]
     },
     "execution_count": 36,
     "metadata": {},
     "output_type": "execute_result"
    }
   ],
   "source": [
    "n_grams[:3]"
   ]
  },
  {
   "cell_type": "code",
   "execution_count": 39,
   "metadata": {},
   "outputs": [
    {
     "name": "stdout",
     "output_type": "stream",
     "text": [
      "Epoch: 1/10\n",
      "135589/135589 [====================] - 183s 1ms/step - loss: 7.0529\n",
      "Epoch: 2/10\n",
      "135589/135589 [====================] - 184s 1ms/step - loss: 6.5109\n",
      "Epoch: 3/10\n",
      "135589/135589 [====================] - 184s 1ms/step - loss: 6.1558\n",
      "Epoch: 4/10\n",
      "135589/135589 [====================] - 184s 1ms/step - loss: 5.8284\n",
      "Epoch: 5/10\n",
      "135589/135589 [====================] - 187s 1ms/step - loss: 5.5033\n",
      "Epoch: 6/10\n",
      "135589/135589 [====================] - 182s 1ms/step - loss: 5.1823\n",
      "Epoch: 7/10\n",
      "135589/135589 [====================] - 187s 1ms/step - loss: 4.8792\n",
      "Epoch: 8/10\n",
      "135589/135589 [====================] - 185s 1ms/step - loss: 4.6082\n",
      "Epoch: 9/10\n",
      "135589/135589 [====================] - 183s 1ms/step - loss: 4.3817\n",
      "Epoch: 10/10\n",
      "135589/135589 [====================] - 187s 1ms/step - loss: 4.1983\n"
     ]
    }
   ],
   "source": [
    "EPOCHS = 10\n",
    "EMBED_DIM = 32\n",
    "CONTEXT_LEN = N  \n",
    "\n",
    "model = NGramModel(vocab_len, EMBED_DIM, CONTEXT_LEN).to(device)\n",
    "\n",
    "losses = []\n",
    "loss_function = nn.NLLLoss()\n",
    "optimizer = optim.SGD(model.parameters(), lr=1e-02)\n",
    "\n",
    "for epoch in range(EPOCHS):\n",
    "    tot_loss = 0\n",
    "    kbar = pkbar.Kbar(target=len(n_grams), epoch=epoch, num_epochs=EPOCHS, width=20, always_stateful=False)\n",
    "\n",
    "    for i, (context, targets) in enumerate(n_grams):\n",
    "        # Process the inputs\n",
    "        idxs = torch.tensor([word_ixs[w] for w in context], dtype=torch.long, device=device)\n",
    "        \n",
    "        # Reset gradients \n",
    "        model.zero_grad()\n",
    "        \n",
    "        # Forward pass\n",
    "        log_probs = model(idxs)\n",
    "        \n",
    "        # compute loss\n",
    "        loss = loss_function(log_probs, torch.tensor([word_ixs[targets]], dtype=torch.long, device=device))\n",
    "        \n",
    "        # backprop and update grads\n",
    "        loss.backward()\n",
    "        optimizer.step()\n",
    "        \n",
    "        tot_loss += loss.item()\n",
    "        \n",
    "        kbar.update(i, values=[(\"loss\", loss.item())])\n",
    "        \n",
    "    kbar.add(1)\n",
    "        \n",
    "    losses.append(tot_loss / len(train_text))"
   ]
  },
  {
   "cell_type": "code",
   "execution_count": 40,
   "metadata": {
    "scrolled": true
   },
   "outputs": [
    {
     "data": {
      "image/png": "[encoded data removed]",
      "text/plain": [
       "<Figure size 432x288 with 1 Axes>"
      ]
     },
     "metadata": {
      "needs_background": "light"
     },
     "output_type": "display_data"
    }
   ],
   "source": [
    "plt.plot(losses)\n",
    "plt.xlabel(\"Epochs\")\n",
    "plt.ylabel(\"Loss\")\n",
    "plt.show()"
   ]
  },
  {
   "cell_type": "code",
   "execution_count": 46,
   "metadata": {},
   "outputs": [],
   "source": [
    "def generate_text_ngram(inputs, word_dict, n_words):\n",
    "    # Preprocess input\n",
    "    inputs = inputs.lower().split()\n",
    "    \n",
    "    # Get n, to slice out last n words from the predicted sentence\n",
    "    n = len(inputs)\n",
    "    \n",
    "    # Keep track of predicted words\n",
    "    pred_sent = inputs\n",
    "    # Collect pred indexes\n",
    "    pred_idxs = []\n",
    "    \n",
    "    for w in range(n_words):\n",
    "        pred_idx, pred_w = make_inference(inputs, word_dict)\n",
    "        pred_sent.append(pred_w)\n",
    "        pred_idxs.append(pred_idx)\n",
    "        inputs = pred_sent[-n:]\n",
    "    \n",
    "    return pred_sent, pred_idxs"
   ]
  },
  {
   "cell_type": "code",
   "execution_count": 60,
   "metadata": {},
   "outputs": [
    {
     "name": "stdout",
     "output_type": "stream",
     "text": [
      "(['yes,', 'sir.', 'we', 'have', 'oftentimes', 'the', 'honour', 'to', 'see', 'a', 'child', 'their', 'hearts', 'of', 'all', 'that', 'i', 'i'], [12140, 6288, 12757, 9486, 11971, 10975, 17930, 13860, 898, 898])\n"
     ]
    }
   ],
   "source": [
    "print(generate_text_ngram(\"Yes, sir. We have oftentimes the honour to\", word_ixs, 10))"
   ]
  },
  {
   "cell_type": "code",
   "execution_count": 63,
   "metadata": {
    "scrolled": false
   },
   "outputs": [
    {
     "name": "stdout",
     "output_type": "stream",
     "text": [
      "(['you', 'know', 'that', 'your', 'parents', 'had', 'a', 'great', 'hand', 'and', 'a', 'long', 'of', 'a', 'curator', 'and', 'in', 'a'], [14824, 13983, 6288, 7477, 10975, 6288, 3018, 13983, 12195, 6288])\n"
     ]
    }
   ],
   "source": [
    "print(generate_text_ngram(\"You know that your parents had a great\", word_ixs, 10))"
   ]
  },
  {
   "cell_type": "code",
   "execution_count": 65,
   "metadata": {},
   "outputs": [
    {
     "name": "stdout",
     "output_type": "stream",
     "text": [
      "(['london', 'is', 'a', 'place', 'where', \"i'd\", 'love', 'to', 'be', 'the', 'tumbrils', 'i', 'see', 'that', 'i', 'know', 'a', 'patient'], [5318, 14727, 10065, 898, 12140, 13860, 898, 15928, 6288, 7491])\n"
     ]
    }
   ],
   "source": [
    "print(generate_text_ngram(\"London is a place where I'd love to\", word_ixs, 10))"
   ]
  },
  {
   "cell_type": "code",
   "execution_count": 69,
   "metadata": {
    "scrolled": true
   },
   "outputs": [
    {
     "name": "stdout",
     "output_type": "stream",
     "text": [
      "(['a', 'large', 'cask', 'of', 'wine', 'has', 'been', 'dropped', 'by', 'i', 'will', 'have', 'ever', 'gone', 'that', 'i', 'have', 'been'], [9591, 898, 6769, 3477, 14564, 18029, 13860, 898, 3477, 2450])\n"
     ]
    }
   ],
   "source": [
    "print(generate_text_ngram(\"A large cask of wine has been dropped\", word_ixs, 10))"
   ]
  },
  {
   "cell_type": "code",
   "execution_count": 71,
   "metadata": {},
   "outputs": [],
   "source": [
    "# Save (only) the model parameters\n",
    "torch.save(model.state_dict(), 'ngram_model_trained.ckpt')"
   ]
  },
  {
   "cell_type": "markdown",
   "metadata": {},
   "source": [
    "As you can see, the model is slightly better at predicting next words now, and a bit funny to be honest! This will definitely improve if you use a more complex algorithm and other SOTA approaches. \n",
    "\n",
    "Thanks for reading.\n",
    "\n",
    "Contributor: [abhinand5](https://github.com/abhinand5)"
   ]
  }
 ],
 "metadata": {
  "kernelspec": {
   "display_name": "Python [conda env:.conda-torch] *",
   "language": "python",
   "name": "conda-env-.conda-torch-py"
  },
  "language_info": {
   "codemirror_mode": {
    "name": "ipython",
    "version": 3
   },
   "file_extension": ".py",
   "mimetype": "text/x-python",
   "name": "python",
   "nbconvert_exporter": "python",
   "pygments_lexer": "ipython3",
   "version": "3.7.9"
  }
 },
 "nbformat": 4,
 "nbformat_minor": 4
}