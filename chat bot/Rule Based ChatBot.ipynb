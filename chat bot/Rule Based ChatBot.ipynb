{
 "cells": [
  {
   "cell_type": "markdown",
   "id": "aa8d5753",
   "metadata": {},
   "source": [
    " pip install flake8"
   ]
  },
  {
   "cell_type": "markdown",
   "id": "818d68fd",
   "metadata": {},
   "source": [
    "# Rule based chatbot"
   ]
  },
  {
   "cell_type": "code",
   "execution_count": 3,
   "id": "2d01202b",
   "metadata": {},
   "outputs": [
    {
     "name": "stdout",
     "output_type": "stream",
     "text": [
      "Collecting package metadata (current_repodata.json): ...working... done\n",
      "Solving environment: ...working... done\n",
      "\n",
      "# All requested packages already installed.\n",
      "\n",
      "\n",
      "Note: you may need to restart the kernel to use updated packages.\n"
     ]
    }
   ],
   "source": [
    "conda install flake8"
   ]
  },
  {
   "cell_type": "code",
   "execution_count": 1,
   "id": "f7f81a95",
   "metadata": {},
   "outputs": [],
   "source": [
    "import nltk\n",
    "from nltk.chat.util import Chat,reflections"
   ]
  },
  {
   "cell_type": "code",
   "execution_count": 2,
   "id": "f841a7e4",
   "metadata": {},
   "outputs": [
    {
     "name": "stdout",
     "output_type": "stream",
     "text": [
      "<class 'nltk.chat.util.Chat'>\n"
     ]
    }
   ],
   "source": [
    "print(Chat)"
   ]
  },
  {
   "cell_type": "code",
   "execution_count": 3,
   "id": "f3c61904",
   "metadata": {},
   "outputs": [
    {
     "data": {
      "text/plain": [
       "{'i am': 'you are',\n",
       " 'i was': 'you were',\n",
       " 'i': 'you',\n",
       " \"i'm\": 'you are',\n",
       " \"i'd\": 'you would',\n",
       " \"i've\": 'you have',\n",
       " \"i'll\": 'you will',\n",
       " 'my': 'your',\n",
       " 'you are': 'I am',\n",
       " 'you were': 'I was',\n",
       " \"you've\": 'I have',\n",
       " \"you'll\": 'I will',\n",
       " 'your': 'my',\n",
       " 'yours': 'mine',\n",
       " 'you': 'me',\n",
       " 'me': 'you'}"
      ]
     },
     "execution_count": 3,
     "metadata": {},
     "output_type": "execute_result"
    }
   ],
   "source": [
    "reflections"
   ]
  },
  {
   "cell_type": "code",
   "execution_count": 4,
   "id": "6bb72f12",
   "metadata": {},
   "outputs": [],
   "source": [
    "set_pairs=[\n",
    "    [\n",
    "        r\"my name is (.*)\",\n",
    "        [\"Hello %l, How are you today?\",]\n",
    "    ],\n",
    "    [\n",
    "        r\"hi|hey|hello\",\n",
    "        [\"Hello\", \"Hey there\",]\n",
    "    ],\n",
    "    [\n",
    "        r\"(.*)help(.*) \",\n",
    "        [\"I can help you \",]\n",
    "    ],\n",
    "    [\n",
    "        r\"(.*) your name ?\",\n",
    "        [\"My name is beedo, but you can just call me robot and I'm a chatbot .\",]\n",
    "    ],\n",
    "    [\n",
    "        r\"how are you (.*) ?\",\n",
    "        [\"I'm doing very well\", \"i am great !\"]\n",
    "    ],\n",
    "    [\n",
    "        r\"sorry (.*)\",\n",
    "        [\"Its alright\",\"Its OK, never mind that\",]\n",
    "    ],\n",
    "    [\n",
    "        r\"i'm (.*) (good|well|okay|ok)\",\n",
    "        [\"Nice to hear that\",\"Alright, great !\",]\n",
    "    ],\n",
    "    [\n",
    "        r\"(hi|hey|hello|hola|holla)(.*)\",\n",
    "        [\"Hello\", \"Hey there\",]\n",
    "    ],\n",
    "    [\n",
    "        r\"what (.*) want ?\",\n",
    "        [\"Make me an offer I can't refuse\",]\n",
    "    ],\n",
    "    [\n",
    "        r\"(.*)created(.*)\",\n",
    "        [\"XYZ created me using Python's NLTK library \",\"top secret ;)\",]\n",
    "    ],\n",
    "    [\n",
    "        r\"(.*) (location|city) ?\",\n",
    "        ['New Delhi, India',]\n",
    "    ],\n",
    "    [\n",
    "        r\"(.*)raining in (.*)\",\n",
    "        [\"No rain in the past 4 days here in %2\",\"In %2 there is a 50% chance of rain\",]\n",
    "    ],\n",
    "    [\n",
    "        r\"how (.*) health (.*)\",\n",
    "        [\"Health is very important, but I am a computer, so I don't need to worry about my health \",]\n",
    "    ],\n",
    "    [\n",
    "        r\"(.*)(sports|game|sport)(.*)\",\n",
    "        [\"I'm a very big fan of Cricket\",]\n",
    "    ],\n",
    "    [\n",
    "        r\"who (.*) (Cricketer|Batsman)?\",\n",
    "        [\"Virat Kohli\"]\n",
    "    ],\n",
    "    [\n",
    "        r\"quit\",\n",
    "        [\"Bye for now. See you soon :) \",\"It was nice talking to you. See you soon :)\"]\n",
    "    ],\n",
    "    [\n",
    "        r\"(.*)\",\n",
    "        ['That is nice to hear']\n",
    "    ],\n",
    "]"
   ]
  },
  {
   "cell_type": "code",
   "execution_count": 5,
   "id": "615e71c0",
   "metadata": {},
   "outputs": [
    {
     "name": "stdout",
     "output_type": "stream",
     "text": [
      "Hi I am a rule-based chatbot ! what can i help you with?\n"
     ]
    }
   ],
   "source": [
    "def chatbot():\n",
    "    print(\"Hi I am a rule-based chatbot ! what can i help you with?\")\n",
    "chatbot()"
   ]
  },
  {
   "cell_type": "code",
   "execution_count": 6,
   "id": "2a9aeab8",
   "metadata": {},
   "outputs": [
    {
     "name": "stdout",
     "output_type": "stream",
     "text": [
      "<nltk.chat.util.Chat object at 0x000001B7FDB25FD0>\n"
     ]
    }
   ],
   "source": [
    "chat = Chat(set_pairs,reflections)\n",
    "print(chat)"
   ]
  },
  {
   "cell_type": "code",
   "execution_count": 7,
   "id": "a32888b8",
   "metadata": {},
   "outputs": [
    {
     "name": "stdout",
     "output_type": "stream",
     "text": [
      ">hello\n",
      "Hey there\n",
      ">what is your name?\n",
      "My name is beedo, but you can just call me robot and I'm a chatbot .\n",
      ">how are you beedo?\n",
      "I'm doing very well\n",
      ">quit\n",
      "It was nice talking to you. See you soon :)\n",
      "Hi I am a rule-based chatbot ! what can i help you with?\n"
     ]
    }
   ],
   "source": [
    "chat.converse()\n",
    "if __name__ == \"__main__\":\n",
    "    chatbot()"
   ]
  }
 ],
 "metadata": {
  "kernelspec": {
   "display_name": "Python 3",
   "language": "python",
   "name": "python3"
  },
  "language_info": {
   "codemirror_mode": {
    "name": "ipython",
    "version": 3
   },
   "file_extension": ".py",
   "mimetype": "text/x-python",
   "name": "python",
   "nbconvert_exporter": "python",
   "pygments_lexer": "ipython3",
   "version": "3.8.8"
  }
 },
 "nbformat": 4,
 "nbformat_minor": 5
}
