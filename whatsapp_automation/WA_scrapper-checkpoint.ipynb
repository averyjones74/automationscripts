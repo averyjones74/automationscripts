{
 "cells": [
  {
   "cell_type": "markdown",
   "source": [
    "## Step1: Import the required dependencies"
   ],
   "metadata": {}
  },
  {
   "cell_type": "code",
   "execution_count": null,
   "source": [
    "from selenium import webdriver\r\n",
    "from selenium.webdriver.common.keys import Keys\r\n",
    "import time"
   ],
   "outputs": [],
   "metadata": {}
  },
  {
   "cell_type": "markdown",
   "source": [
    "## Call the driver (.exe)executable (keep it in the current directory for easy call )"
   ],
   "metadata": {}
  },
  {
   "cell_type": "code",
   "execution_count": null,
   "source": [
    "driver=webdriver.Chrome(executable_path=\"chromedriver.exe\")\r\n",
    "driver.get(\"https://web.whatsapp.com/\")"
   ],
   "outputs": [],
   "metadata": {}
  },
  {
   "cell_type": "markdown",
   "source": [
    "## Initialize the bot message and locate the search button"
   ],
   "metadata": {}
  },
  {
   "cell_type": "code",
   "execution_count": null,
   "source": [
    "name=['Bot']\r\n",
    "bot=\"Hi!\"\r\n",
    "time.sleep(8)\r\n",
    "search_box = driver.find_element_by_xpath('//*[@id=\"side\"]/div[1]/div/label/div/div[2]')\r\n",
    "search_box.send_keys(name)\r\n",
    "search_box.send_keys(Keys.ENTER)"
   ],
   "outputs": [],
   "metadata": {}
  },
  {
   "cell_type": "markdown",
   "source": [
    "## Extract the last message "
   ],
   "metadata": {}
  },
  {
   "cell_type": "code",
   "execution_count": null,
   "source": [
    "for i in range(1,43):\r\n",
    "    driver.execute_script(\"window.scrollTo(0, document.body.scrollHeight);\")\r\n",
    "time.sleep(8)\r\n",
    "lastmsg = driver.find_elements_by_class_name('cvjcv _1Ilru')\r\n",
    "msg = driver.find_elements_by_class_name('_1Gy50')\r\n",
    "msg = msg[-1]\r\n",
    "msg_1 = msg.text\r\n",
    "msg_1 = msg_1.split('\\n')\r\n",
    "print(msg_1)"
   ],
   "outputs": [],
   "metadata": {}
  },
  {
   "cell_type": "markdown",
   "source": [
    "## Reply to the message "
   ],
   "metadata": {}
  },
  {
   "cell_type": "code",
   "execution_count": null,
   "source": [
    "text_box=driver.find_element_by_xpath('//*[@id=\"main\"]/footer/div[1]/div[2]/div/div[1]')\r\n",
    "text='From Bot: \"{}\" '.format(bot)\r\n",
    "text_box.send_keys(text+ Keys.ENTER)\r\n",
    "driver.quit()\r\n",
    "print('Done!')"
   ],
   "outputs": [],
   "metadata": {}
  }
 ],
 "metadata": {
  "kernelspec": {
   "display_name": "Python 3",
   "language": "python",
   "name": "python3"
  },
  "language_info": {
   "codemirror_mode": {
    "name": "ipython",
    "version": 3
   },
   "file_extension": ".py",
   "mimetype": "text/x-python",
   "name": "python",
   "nbconvert_exporter": "python",
   "pygments_lexer": "ipython3",
   "version": "3.9.4"
  }
 },
 "nbformat": 4,
 "nbformat_minor": 5
}